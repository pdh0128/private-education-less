{
 "cells": [
  {
   "metadata": {
    "ExecuteTime": {
     "end_time": "2025-06-16T02:32:27.466083Z",
     "start_time": "2025-06-16T02:32:27.384669Z"
    }
   },
   "cell_type": "code",
   "source": [
    "import pandas as pd\n",
    "\n",
    "seoul = pd.read_csv('datasets/서울시_월평균_사교육비.csv', skiprows=1)\n",
    "\n",
    "seoul_df = seoul.drop(index=1)\n",
    "seoul_df = pd.melt(\n",
    "    seoul_df,\n",
    "    value_vars=['항목', '평균', '초등학교', '중학교', '고등학교'],\n",
    "    var_name='학생 1인당 월평균 사교육비 (만원)',\n",
    ")\n",
    "\n",
    "seoul_df = seoul_df.drop(0)\n",
    "seoul_df.columns = ['학교 구분', '학생 1인당 월 평균 사교육비']\n",
    "\n",
    "seoul_df['학교 구분'] = seoul_df['학교 구분'].replace('초등학교', '초등학생')\n",
    "seoul_df['학교 구분'] = seoul_df['학교 구분'].replace('중학교', '중학생')\n",
    "seoul_df['학교 구분'] = seoul_df['학교 구분'].replace('고등학교', '고등학생')\n",
    "\n",
    "seoul_df.head()"
   ],
   "id": "fbc121e30a2defb3",
   "outputs": [
    {
     "data": {
      "text/plain": [
       "  학교 구분 학생 1인당 월 평균 사교육비\n",
       "1    평균             67.3\n",
       "2  초등학생             60.9\n",
       "3   중학생             69.1\n",
       "4  고등학생             76.9"
      ],
      "text/html": [
       "<div>\n",
       "<style scoped>\n",
       "    .dataframe tbody tr th:only-of-type {\n",
       "        vertical-align: middle;\n",
       "    }\n",
       "\n",
       "    .dataframe tbody tr th {\n",
       "        vertical-align: top;\n",
       "    }\n",
       "\n",
       "    .dataframe thead th {\n",
       "        text-align: right;\n",
       "    }\n",
       "</style>\n",
       "<table border=\"1\" class=\"dataframe\">\n",
       "  <thead>\n",
       "    <tr style=\"text-align: right;\">\n",
       "      <th></th>\n",
       "      <th>학교 구분</th>\n",
       "      <th>학생 1인당 월 평균 사교육비</th>\n",
       "    </tr>\n",
       "  </thead>\n",
       "  <tbody>\n",
       "    <tr>\n",
       "      <th>1</th>\n",
       "      <td>평균</td>\n",
       "      <td>67.3</td>\n",
       "    </tr>\n",
       "    <tr>\n",
       "      <th>2</th>\n",
       "      <td>초등학생</td>\n",
       "      <td>60.9</td>\n",
       "    </tr>\n",
       "    <tr>\n",
       "      <th>3</th>\n",
       "      <td>중학생</td>\n",
       "      <td>69.1</td>\n",
       "    </tr>\n",
       "    <tr>\n",
       "      <th>4</th>\n",
       "      <td>고등학생</td>\n",
       "      <td>76.9</td>\n",
       "    </tr>\n",
       "  </tbody>\n",
       "</table>\n",
       "</div>"
      ]
     },
     "execution_count": 101,
     "metadata": {},
     "output_type": "execute_result"
    }
   ],
   "execution_count": 101
  },
  {
   "metadata": {
    "ExecuteTime": {
     "end_time": "2025-06-16T02:30:10.697425Z",
     "start_time": "2025-06-16T02:30:10.663950Z"
    }
   },
   "cell_type": "code",
   "source": [
    "jeju = pd.read_csv('datasets/제주_월평균_사교육비.csv')\n",
    "jeju.head()\n",
    "\n",
    "grouped = jeju.groupby('학교 구분')['사교육비(만원)'].mean().round(1).reset_index()\n",
    "total_mean = jeju['사교육비(만원)'].mean().round(1)\n",
    "\n",
    "jeju_df = pd.concat([\n",
    "    pd.DataFrame([{'학교 구분': '평균', '사교육비(만원)': total_mean}]),\n",
    "    grouped\n",
    "], ignore_index=True)\n",
    "\n",
    "jeju_df = jeju_df.drop(2)\n",
    "jeju_df['학교 구분'] = jeju_df['학교 구분'].replace('초등학교', '초등학생')\n",
    "jeju_df['학교 구분'] = jeju_df['학교 구분'].replace('중학교', '중학생')\n",
    "jeju_df['학교 구분'] = jeju_df['학교 구분'].replace('고등학교', '고등학생')\n",
    "\n",
    "\n",
    "order = ['평균', '초등학생', '중학생', '고등학생']\n",
    "jeju_df['학교 구분'] = pd.Categorical(jeju_df['학교 구분'], categories=order, ordered=True)\n",
    "jeju_df = jeju_df.sort_values('학교 구분').reset_index(drop=True)\n",
    "\n",
    "jeju_df.columns = ['학교 구분', '학생 1인당 월 평균 사교육비']\n",
    "\n",
    "jeju_df"
   ],
   "id": "f2f5b23e7452f922",
   "outputs": [
    {
     "data": {
      "text/plain": [
       "  학교 구분  학생 1인당 월 평균 사교육비\n",
       "0    평균              45.3\n",
       "1  초등학생              30.1\n",
       "2   중학생              45.2\n",
       "3  고등학생              51.9"
      ],
      "text/html": [
       "<div>\n",
       "<style scoped>\n",
       "    .dataframe tbody tr th:only-of-type {\n",
       "        vertical-align: middle;\n",
       "    }\n",
       "\n",
       "    .dataframe tbody tr th {\n",
       "        vertical-align: top;\n",
       "    }\n",
       "\n",
       "    .dataframe thead th {\n",
       "        text-align: right;\n",
       "    }\n",
       "</style>\n",
       "<table border=\"1\" class=\"dataframe\">\n",
       "  <thead>\n",
       "    <tr style=\"text-align: right;\">\n",
       "      <th></th>\n",
       "      <th>학교 구분</th>\n",
       "      <th>학생 1인당 월 평균 사교육비</th>\n",
       "    </tr>\n",
       "  </thead>\n",
       "  <tbody>\n",
       "    <tr>\n",
       "      <th>0</th>\n",
       "      <td>평균</td>\n",
       "      <td>45.3</td>\n",
       "    </tr>\n",
       "    <tr>\n",
       "      <th>1</th>\n",
       "      <td>초등학생</td>\n",
       "      <td>30.1</td>\n",
       "    </tr>\n",
       "    <tr>\n",
       "      <th>2</th>\n",
       "      <td>중학생</td>\n",
       "      <td>45.2</td>\n",
       "    </tr>\n",
       "    <tr>\n",
       "      <th>3</th>\n",
       "      <td>고등학생</td>\n",
       "      <td>51.9</td>\n",
       "    </tr>\n",
       "  </tbody>\n",
       "</table>\n",
       "</div>"
      ]
     },
     "execution_count": 90,
     "metadata": {},
     "output_type": "execute_result"
    }
   ],
   "execution_count": 90
  },
  {
   "metadata": {
    "ExecuteTime": {
     "end_time": "2025-06-16T02:32:35.834481Z",
     "start_time": "2025-06-16T02:32:35.783950Z"
    }
   },
   "cell_type": "code",
   "source": [
    "jeonbuk = pd.read_csv('datasets/전북_월평균_사교육비.csv', encoding='euc-kr')\n",
    "jeonbuk.head()\n",
    "\n",
    "# melt 적용\n",
    "jeonbuk_df = pd.melt(\n",
    "    jeonbuk,\n",
    "    value_vars=['초등학생', '중학생', '고등학생'],  # 펼칠 열\n",
    "    var_name='학년구분',\n",
    "    value_name='값'\n",
    ")\n",
    "\n",
    "jeonbuk_df.columns = ['학교 구분', '학생 1인당 월 평균 사교육비']\n",
    "jeonbuk_df.dropna(inplace=True)\n",
    "\n",
    "jeonbuk_df = jeonbuk_df.groupby('학교 구분')['학생 1인당 월 평균 사교육비'].mean().round(2).reset_index()\n",
    "\n",
    "total_mean = jeonbuk_df['학생 1인당 월 평균 사교육비'].mean().round(1)\n",
    "jeonbuk_df = pd.concat([\n",
    "    pd.DataFrame([{'학교 구분': '평균', '학생 1인당 월 평균 사교육비': total_mean}]),\n",
    "    jeonbuk_df\n",
    "], ignore_index=True)\n",
    "\n",
    "\n",
    "jeonbuk_df['학교 구분'] = jeonbuk_df['학교 구분'].replace('초등학교', '초등학생')\n",
    "jeonbuk_df['학교 구분'] = jeonbuk_df['학교 구분'].replace('중학교', '중학생')\n",
    "jeonbuk_df['학교 구분'] = jeonbuk_df['학교 구분'].replace('고등학교', '고등학생')\n",
    "\n",
    "order = ['평균', '초등학생', '중학생', '고등학생']\n",
    "jeonbuk_df['학교 구분'] = pd.Categorical(jeonbuk_df['학교 구분'], categories=order, ordered=True)\n",
    "jeonbuk_df = jeonbuk_df.sort_values('학교 구분').reset_index(drop=True)\n",
    "\n",
    "jeonbuk_df.head()"
   ],
   "id": "a10db72281efa756",
   "outputs": [
    {
     "data": {
      "text/plain": [
       "  학교 구분  학생 1인당 월 평균 사교육비\n",
       "0    평균             29.50\n",
       "1  초등학생             29.28\n",
       "2   중학생             30.41\n",
       "3  고등학생             28.75"
      ],
      "text/html": [
       "<div>\n",
       "<style scoped>\n",
       "    .dataframe tbody tr th:only-of-type {\n",
       "        vertical-align: middle;\n",
       "    }\n",
       "\n",
       "    .dataframe tbody tr th {\n",
       "        vertical-align: top;\n",
       "    }\n",
       "\n",
       "    .dataframe thead th {\n",
       "        text-align: right;\n",
       "    }\n",
       "</style>\n",
       "<table border=\"1\" class=\"dataframe\">\n",
       "  <thead>\n",
       "    <tr style=\"text-align: right;\">\n",
       "      <th></th>\n",
       "      <th>학교 구분</th>\n",
       "      <th>학생 1인당 월 평균 사교육비</th>\n",
       "    </tr>\n",
       "  </thead>\n",
       "  <tbody>\n",
       "    <tr>\n",
       "      <th>0</th>\n",
       "      <td>평균</td>\n",
       "      <td>29.50</td>\n",
       "    </tr>\n",
       "    <tr>\n",
       "      <th>1</th>\n",
       "      <td>초등학생</td>\n",
       "      <td>29.28</td>\n",
       "    </tr>\n",
       "    <tr>\n",
       "      <th>2</th>\n",
       "      <td>중학생</td>\n",
       "      <td>30.41</td>\n",
       "    </tr>\n",
       "    <tr>\n",
       "      <th>3</th>\n",
       "      <td>고등학생</td>\n",
       "      <td>28.75</td>\n",
       "    </tr>\n",
       "  </tbody>\n",
       "</table>\n",
       "</div>"
      ]
     },
     "execution_count": 102,
     "metadata": {},
     "output_type": "execute_result"
    }
   ],
   "execution_count": 102
  },
  {
   "metadata": {
    "ExecuteTime": {
     "end_time": "2025-06-16T02:32:37.034410Z",
     "start_time": "2025-06-16T02:32:37.028168Z"
    }
   },
   "cell_type": "code",
   "source": [
    "seoul_df['지역'] = '서울'\n",
    "jeonbuk_df['지역'] = '전북'\n",
    "jeju_df['지역'] = '제주'\n",
    "\n",
    "combined_df = pd.concat([seoul_df, jeonbuk_df, jeju_df], ignore_index=True)"
   ],
   "id": "5e83938a2d4991ae",
   "outputs": [],
   "execution_count": 103
  },
  {
   "metadata": {
    "ExecuteTime": {
     "end_time": "2025-06-16T02:32:38.653690Z",
     "start_time": "2025-06-16T02:32:38.650291Z"
    }
   },
   "cell_type": "code",
   "source": [
    "import matplotlib.pyplot as plt\n",
    "plt.rcParams['font.family'] = 'AppleGothic'\n",
    "plt.rcParams['axes.unicode_minus'] = False"
   ],
   "id": "5919a0573db1b01b",
   "outputs": [],
   "execution_count": 104
  },
  {
   "metadata": {
    "ExecuteTime": {
     "end_time": "2025-06-16T02:32:39.806783Z",
     "start_time": "2025-06-16T02:32:39.670266Z"
    }
   },
   "cell_type": "code",
   "source": [
    "import seaborn as sns\n",
    "\n",
    "plt.figure(figsize=(10, 6))\n",
    "sns.barplot(\n",
    "    data=combined_df,\n",
    "    x='학교 구분',\n",
    "    y='학생 1인당 월 평균 사교육비',\n",
    "    hue='지역'\n",
    ")\n",
    "plt.title('지역별 학교 구분별 사교육비 비교')\n",
    "plt.ylabel('학생 1인당 월 평균 사교육비')\n",
    "plt.xlabel('학교 구분')\n",
    "plt.legend(title='지역')\n",
    "plt.tight_layout()\n",
    "plt.show()\n"
   ],
   "id": "e083695aac911d30",
   "outputs": [
    {
     "data": {
      "text/plain": [
       "<Figure size 1000x600 with 1 Axes>"
      ],
      "image/png": "[encoded data removed]"
     },
     "metadata": {},
     "output_type": "display_data"
    }
   ],
   "execution_count": 105
  },
  {
   "metadata": {
    "ExecuteTime": {
     "end_time": "2025-06-16T02:32:12.874570Z",
     "start_time": "2025-06-16T02:32:12.865177Z"
    }
   },
   "cell_type": "code",
   "source": "",
   "id": "b217e157dfd6241d",
   "outputs": [
    {
     "data": {
      "text/plain": [
       "Index(['학생 1인당 월평균 사교육비 (만원)', 'value'], dtype='object')"
      ]
     },
     "execution_count": 100,
     "metadata": {},
     "output_type": "execute_result"
    }
   ],
   "execution_count": 100
  },
  {
   "metadata": {},
   "cell_type": "code",
   "outputs": [],
   "execution_count": null,
   "source": "",
   "id": "2622f940734f5e59"
  }
 ],
 "metadata": {
  "kernelspec": {
   "display_name": "Python 3",
   "language": "python",
   "name": "python3"
  },
  "language_info": {
   "codemirror_mode": {
    "name": "ipython",
    "version": 2
   },
   "file_extension": ".py",
   "mimetype": "text/x-python",
   "name": "python",
   "nbconvert_exporter": "python",
   "pygments_lexer": "ipython2",
   "version": "2.7.6"
  }
 },
 "nbformat": 4,
 "nbformat_minor": 5
}
